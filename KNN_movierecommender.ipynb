{
 "cells": [
  {
   "cell_type": "code",
   "execution_count": 1,
   "id": "253aa6a9",
   "metadata": {},
   "outputs": [
    {
     "name": "stdout",
     "output_type": "stream",
     "text": [
      "Requirement already satisfied: fuzzywuzzy in c:\\users\\manin\\anaconda3\\lib\\site-packages (0.18.0)\n",
      "Note: you may need to restart the kernel to use updated packages.\n"
     ]
    }
   ],
   "source": [
    "pip install fuzzywuzzy\n"
   ]
  },
  {
   "cell_type": "code",
   "execution_count": 2,
   "id": "fd2f44a5",
   "metadata": {},
   "outputs": [
    {
     "name": "stderr",
     "output_type": "stream",
     "text": [
      "C:\\Users\\manin\\anaconda3\\lib\\site-packages\\fuzzywuzzy\\fuzz.py:11: UserWarning: Using slow pure-python SequenceMatcher. Install python-Levenshtein to remove this warning\n",
      "  warnings.warn('Using slow pure-python SequenceMatcher. Install python-Levenshtein to remove this warning')\n"
     ]
    }
   ],
   "source": [
    "import pandas as pd \n",
    "from scipy.sparse import csr_matrix\n",
    "from fuzzywuzzy import process\n"
   ]
  },
  {
   "cell_type": "code",
   "execution_count": 3,
   "id": "dfddd952",
   "metadata": {},
   "outputs": [
    {
     "data": {
      "text/html": [
       "<div>\n",
       "<style scoped>\n",
       "    .dataframe tbody tr th:only-of-type {\n",
       "        vertical-align: middle;\n",
       "    }\n",
       "\n",
       "    .dataframe tbody tr th {\n",
       "        vertical-align: top;\n",
       "    }\n",
       "\n",
       "    .dataframe thead th {\n",
       "        text-align: right;\n",
       "    }\n",
       "</style>\n",
       "<table border=\"1\" class=\"dataframe\">\n",
       "  <thead>\n",
       "    <tr style=\"text-align: right;\">\n",
       "      <th></th>\n",
       "      <th>movieId</th>\n",
       "      <th>title</th>\n",
       "    </tr>\n",
       "  </thead>\n",
       "  <tbody>\n",
       "    <tr>\n",
       "      <th>0</th>\n",
       "      <td>1</td>\n",
       "      <td>Toy Story (1995)</td>\n",
       "    </tr>\n",
       "    <tr>\n",
       "      <th>1</th>\n",
       "      <td>2</td>\n",
       "      <td>Jumanji (1995)</td>\n",
       "    </tr>\n",
       "    <tr>\n",
       "      <th>2</th>\n",
       "      <td>3</td>\n",
       "      <td>Grumpier Old Men (1995)</td>\n",
       "    </tr>\n",
       "    <tr>\n",
       "      <th>3</th>\n",
       "      <td>4</td>\n",
       "      <td>Waiting to Exhale (1995)</td>\n",
       "    </tr>\n",
       "    <tr>\n",
       "      <th>4</th>\n",
       "      <td>5</td>\n",
       "      <td>Father of the Bride Part II (1995)</td>\n",
       "    </tr>\n",
       "  </tbody>\n",
       "</table>\n",
       "</div>"
      ],
      "text/plain": [
       "   movieId                               title\n",
       "0        1                    Toy Story (1995)\n",
       "1        2                      Jumanji (1995)\n",
       "2        3             Grumpier Old Men (1995)\n",
       "3        4            Waiting to Exhale (1995)\n",
       "4        5  Father of the Bride Part II (1995)"
      ]
     },
     "execution_count": 3,
     "metadata": {},
     "output_type": "execute_result"
    }
   ],
   "source": [
    "movies=pd.read_csv(\"C:/Users/manin/Desktop/unstop/movies.csv\", usecols=['movieId', 'title'])\n",
    "movies.head()"
   ]
  },
  {
   "cell_type": "code",
   "execution_count": 4,
   "id": "cd27b959",
   "metadata": {},
   "outputs": [
    {
     "data": {
      "text/html": [
       "<div>\n",
       "<style scoped>\n",
       "    .dataframe tbody tr th:only-of-type {\n",
       "        vertical-align: middle;\n",
       "    }\n",
       "\n",
       "    .dataframe tbody tr th {\n",
       "        vertical-align: top;\n",
       "    }\n",
       "\n",
       "    .dataframe thead th {\n",
       "        text-align: right;\n",
       "    }\n",
       "</style>\n",
       "<table border=\"1\" class=\"dataframe\">\n",
       "  <thead>\n",
       "    <tr style=\"text-align: right;\">\n",
       "      <th></th>\n",
       "      <th>userId</th>\n",
       "      <th>movieId</th>\n",
       "      <th>rating</th>\n",
       "    </tr>\n",
       "  </thead>\n",
       "  <tbody>\n",
       "    <tr>\n",
       "      <th>0</th>\n",
       "      <td>1</td>\n",
       "      <td>1</td>\n",
       "      <td>4.0</td>\n",
       "    </tr>\n",
       "    <tr>\n",
       "      <th>1</th>\n",
       "      <td>1</td>\n",
       "      <td>3</td>\n",
       "      <td>4.0</td>\n",
       "    </tr>\n",
       "    <tr>\n",
       "      <th>2</th>\n",
       "      <td>1</td>\n",
       "      <td>6</td>\n",
       "      <td>4.0</td>\n",
       "    </tr>\n",
       "    <tr>\n",
       "      <th>3</th>\n",
       "      <td>1</td>\n",
       "      <td>47</td>\n",
       "      <td>5.0</td>\n",
       "    </tr>\n",
       "    <tr>\n",
       "      <th>4</th>\n",
       "      <td>1</td>\n",
       "      <td>50</td>\n",
       "      <td>5.0</td>\n",
       "    </tr>\n",
       "  </tbody>\n",
       "</table>\n",
       "</div>"
      ],
      "text/plain": [
       "   userId  movieId  rating\n",
       "0       1        1     4.0\n",
       "1       1        3     4.0\n",
       "2       1        6     4.0\n",
       "3       1       47     5.0\n",
       "4       1       50     5.0"
      ]
     },
     "execution_count": 4,
     "metadata": {},
     "output_type": "execute_result"
    }
   ],
   "source": [
    "ratings=pd.read_csv(\"C:/Users/manin/Desktop/unstop/ratings.csv\", usecols=['userId','movieId','rating'] )\n",
    "ratings.head()"
   ]
  },
  {
   "cell_type": "code",
   "execution_count": 5,
   "id": "5de301c1",
   "metadata": {},
   "outputs": [
    {
     "data": {
      "text/plain": [
       "((100836, 3), (9742, 2))"
      ]
     },
     "execution_count": 5,
     "metadata": {},
     "output_type": "execute_result"
    }
   ],
   "source": [
    "ratings.shape, movies.shape"
   ]
  },
  {
   "cell_type": "code",
   "execution_count": 6,
   "id": "16ddb25e",
   "metadata": {},
   "outputs": [
    {
     "data": {
      "text/html": [
       "<div>\n",
       "<style scoped>\n",
       "    .dataframe tbody tr th:only-of-type {\n",
       "        vertical-align: middle;\n",
       "    }\n",
       "\n",
       "    .dataframe tbody tr th {\n",
       "        vertical-align: top;\n",
       "    }\n",
       "\n",
       "    .dataframe thead th {\n",
       "        text-align: right;\n",
       "    }\n",
       "</style>\n",
       "<table border=\"1\" class=\"dataframe\">\n",
       "  <thead>\n",
       "    <tr style=\"text-align: right;\">\n",
       "      <th></th>\n",
       "      <th>userId</th>\n",
       "      <th>movieId</th>\n",
       "      <th>rating</th>\n",
       "    </tr>\n",
       "  </thead>\n",
       "  <tbody>\n",
       "    <tr>\n",
       "      <th>0</th>\n",
       "      <td>1</td>\n",
       "      <td>1</td>\n",
       "      <td>4.0</td>\n",
       "    </tr>\n",
       "    <tr>\n",
       "      <th>1</th>\n",
       "      <td>1</td>\n",
       "      <td>3</td>\n",
       "      <td>4.0</td>\n",
       "    </tr>\n",
       "    <tr>\n",
       "      <th>2</th>\n",
       "      <td>1</td>\n",
       "      <td>6</td>\n",
       "      <td>4.0</td>\n",
       "    </tr>\n",
       "    <tr>\n",
       "      <th>3</th>\n",
       "      <td>1</td>\n",
       "      <td>47</td>\n",
       "      <td>5.0</td>\n",
       "    </tr>\n",
       "    <tr>\n",
       "      <th>4</th>\n",
       "      <td>1</td>\n",
       "      <td>50</td>\n",
       "      <td>5.0</td>\n",
       "    </tr>\n",
       "  </tbody>\n",
       "</table>\n",
       "</div>"
      ],
      "text/plain": [
       "   userId  movieId  rating\n",
       "0       1        1     4.0\n",
       "1       1        3     4.0\n",
       "2       1        6     4.0\n",
       "3       1       47     5.0\n",
       "4       1       50     5.0"
      ]
     },
     "execution_count": 6,
     "metadata": {},
     "output_type": "execute_result"
    }
   ],
   "source": [
    "movies_users=ratings.pivot(index='movieId', columns='userId', values='rating').fillna(0)\n",
    "ratings.head()"
   ]
  },
  {
   "cell_type": "code",
   "execution_count": 7,
   "id": "7269d924",
   "metadata": {},
   "outputs": [],
   "source": [
    "from scipy.sparse import csr_matrix"
   ]
  },
  {
   "cell_type": "code",
   "execution_count": 8,
   "id": "68dd382f",
   "metadata": {},
   "outputs": [
    {
     "data": {
      "text/plain": [
       "<9724x610 sparse matrix of type '<class 'numpy.float64'>'\n",
       "\twith 100836 stored elements in Compressed Sparse Row format>"
      ]
     },
     "execution_count": 8,
     "metadata": {},
     "output_type": "execute_result"
    }
   ],
   "source": [
    "mat_movies = csr_matrix(movies_users.values)\n",
    "mat_movies"
   ]
  },
  {
   "cell_type": "code",
   "execution_count": 9,
   "id": "e870c831",
   "metadata": {},
   "outputs": [
    {
     "data": {
      "text/plain": [
       "NearestNeighbors(algorithm='brute', metric='cosine', n_neighbors=20)"
      ]
     },
     "execution_count": 9,
     "metadata": {},
     "output_type": "execute_result"
    }
   ],
   "source": [
    "from sklearn.neighbors import NearestNeighbors \n",
    "model=NearestNeighbors(metric='cosine',algorithm='brute',n_neighbors=20)\n",
    "model.fit(mat_movies)\n",
    " "
   ]
  },
  {
   "cell_type": "code",
   "execution_count": 10,
   "id": "010d2971",
   "metadata": {},
   "outputs": [],
   "source": [
    "def recommender(movie_name,data,n):\n",
    "    idx=process.extractOne(movie_name,movies['title'])[2]\n",
    "    print('Movie Selected: ',movies['title'][idx],'Index: ',idx)\n",
    "    print('Searching for recommondation...........')\n",
    "    distance , indices=model.kneighbors(data[idx], n_neighbors=n)\n",
    "    print(distance, indices)\n",
    "    for i  in indices:\n",
    "        print(movies['title'][i].where(i!=idx))"
   ]
  },
  {
   "cell_type": "code",
   "execution_count": 11,
   "id": "85ef4cf0",
   "metadata": {},
   "outputs": [
    {
     "name": "stdout",
     "output_type": "stream",
     "text": [
      "Movie Selected:  Heat (1995) Index:  5\n",
      "Searching for recommondation...........\n",
      "[[2.22044605e-16 4.77245221e-01 4.89322970e-01 5.02859723e-01\n",
      "  5.07198065e-01 5.14081720e-01 5.21773308e-01 5.36073910e-01\n",
      "  5.36497102e-01 5.38850839e-01]] [[  5 592  31 254  15 520 398  43  84 136]]\n",
      "5                                                    NaN\n",
      "592                                     Rock, The (1996)\n",
      "31             Twelve Monkeys (a.k.a. 12 Monkeys) (1995)\n",
      "254    Léon: The Professional (a.k.a. The Professiona...\n",
      "15                                         Casino (1995)\n",
      "520                                         Fargo (1996)\n",
      "398                                 Fugitive, The (1993)\n",
      "43                           Seven (a.k.a. Se7en) (1995)\n",
      "84                                   Broken Arrow (1996)\n",
      "136                                     Desperado (1995)\n",
      "Name: title, dtype: object\n"
     ]
    }
   ],
   "source": [
    "recommender('heat',mat_movies,10)"
   ]
  },
  {
   "cell_type": "code",
   "execution_count": 12,
   "id": "a9f62c23",
   "metadata": {},
   "outputs": [
    {
     "name": "stdout",
     "output_type": "stream",
     "text": [
      "Movie Selected:  Heat (1995) Index:  5\n",
      "Searching for recommondation...........\n",
      "[[2.22044605e-16 4.77245221e-01 4.89322970e-01 5.02859723e-01\n",
      "  5.07198065e-01 5.14081720e-01 5.21773308e-01 5.36073910e-01\n",
      "  5.36497102e-01 5.38850839e-01]] [[  5 592  31 254  15 520 398  43  84 136]]\n",
      "5                                                    NaN\n",
      "592                                     Rock, The (1996)\n",
      "31             Twelve Monkeys (a.k.a. 12 Monkeys) (1995)\n",
      "254    Léon: The Professional (a.k.a. The Professiona...\n",
      "15                                         Casino (1995)\n",
      "520                                         Fargo (1996)\n",
      "398                                 Fugitive, The (1993)\n",
      "43                           Seven (a.k.a. Se7en) (1995)\n",
      "84                                   Broken Arrow (1996)\n",
      "136                                     Desperado (1995)\n",
      "Name: title, dtype: object\n"
     ]
    }
   ],
   "source": [
    "recommender('heat',mat_movies,10)"
   ]
  },
  {
   "cell_type": "code",
   "execution_count": 13,
   "id": "31db87c2",
   "metadata": {},
   "outputs": [
    {
     "name": "stdout",
     "output_type": "stream",
     "text": [
      "Movie Selected:  Chronicles of Narnia: Prince Caspian, The (2008) Index:  6751\n",
      "Searching for recommondation...........\n",
      "[[0.         0.         0.         0.         0.10557281 0.16794971\n",
      "  0.2        0.24742331 0.24742331 0.29289322]] [[8024 6751 7053 7974 8094 7821 7541 7501 7964 7705]]\n",
      "8024                                     Flight (2012)\n",
      "6751                                               NaN\n",
      "7053                               Imagine That (2009)\n",
      "7974                 Paradise Lost 3: Purgatory (2011)\n",
      "8094                                       Tabu (2012)\n",
      "7821                              Perfect Sense (2011)\n",
      "7541                     Adjustment Bureau, The (2011)\n",
      "7501                                  Yogi Bear (2010)\n",
      "7964    6 Days to Air: The Making of South Park (2011)\n",
      "7705                                       Gigi (1949)\n",
      "Name: title, dtype: object\n"
     ]
    }
   ],
   "source": [
    "recommender('narnia',mat_movies,10)"
   ]
  },
  {
   "cell_type": "code",
   "execution_count": null,
   "id": "d04e10ac",
   "metadata": {},
   "outputs": [],
   "source": []
  }
 ],
 "metadata": {
  "kernelspec": {
   "display_name": "Python 3 (ipykernel)",
   "language": "python",
   "name": "python3"
  },
  "language_info": {
   "codemirror_mode": {
    "name": "ipython",
    "version": 3
   },
   "file_extension": ".py",
   "mimetype": "text/x-python",
   "name": "python",
   "nbconvert_exporter": "python",
   "pygments_lexer": "ipython3",
   "version": "3.9.12"
  }
 },
 "nbformat": 4,
 "nbformat_minor": 5
}
